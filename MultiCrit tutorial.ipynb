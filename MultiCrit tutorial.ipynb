{
 "cells": [
  {
   "cell_type": "code",
   "execution_count": 3,
   "metadata": {},
   "outputs": [
    {
     "name": "stderr",
     "output_type": "stream",
     "text": [
      "/home/nikos/PycharmProjects/PycharmProjects/MultiCrit/utamethodstest.py:146: SyntaxWarning: \"is\" with a literal. Did you mean \"==\"?\n",
      "  if utilities is 'UTA':\n",
      "/home/nikos/PycharmProjects/PycharmProjects/MultiCrit/utamethodstest.py:150: SyntaxWarning: \"is\" with a literal. Did you mean \"==\"?\n",
      "  elif utilities is 'UTASTAR':\n"
     ]
    }
   ],
   "source": [
    "from utamethodstest import *\n",
    "import numpy as np\n",
    "from matplotlib import pyplot as plt"
   ]
  },
  {
   "cell_type": "markdown",
   "metadata": {},
   "source": [
    "<p>Για την εφαρογή των μεθόδων UTA και UTASTAR ο χρήστης χρειάζζεται να εισάγει τα εξής δεδομένα:</p>\n",
    "<p>data: Η μεταβλητή αυτή αφορά τα δεδομένα του πολυκριτήριου πίνακα, τα οποία\n",
    "εισάγονται είτε σε μορφή pandas data frame είτε σε numpy array. Στην περίπτωση\n",
    "που εισαχθούν σε μορφή pandas data frame θα πρέπει να περιέχεται και μία στήλη\n",
    "με ετικέτα “Ranking” ή “Rank” που θα περιγράφει τις κατατάξεις</p>\n",
    "<p>alternatives: Δέχεται σε μορφή λίστας τα ονόματα των εναλλακτικών. Σε περίπτωση που δεν\n",
    "εισαχθεί το σύστημα ονομάζει τις εναλλακτικές ως alternative1, alternative2,...</p>\n",
    "<p>criteria: Δέχεται σε μορφή λίστας τα ονόματα των κριτηρίων. Σε περίπτωση που δεν\n",
    "εισαχθεί το σύστημα ονομάζει τα κριτήρια criteria1, criteria2...</p>\n",
    "<p>ranking: Δέχεται σε μορφή λίστας ή πίνακα numpy την κατάταξη των εναλλακτικών. Σε\n",
    "περίπτωση pandas dataframe δεν χρειάζεται η εισαγωγή αυτής της μεταβλητής</p>\n",
    "<p>monotonicity: Δέχεται σε μορφή λίστας ή πίνακα numpy την μονοτονία των εναλλακτικών τιμών\n",
    "με αποδεκτές τιμές 1 για αύξουσα μονοτονία και 0 για φθίνουσα</p>\n",
    "<p>bestvalues: Δέχεται σε μορφή λίστας ή πίνακα numpy τις καλύτερες τιμές που μπορεί να λάβει\n",
    "κάθε κριτήριο. Σε περίπτωση που δεν συμπληρωθεί ο πίνακας η συνάρτηση λαμβάνει σαν την καλύτερη τιμή την τιμή του πολυκριτήριου πίνακα, έχοντας\n",
    "υπόψιν την μονοτονία του κριτηρίου.</p>\n",
    "<p>worstvalues: Δέχεται σε μορφή λίστας ή πίνακα numpy τις χειρότερες τιμές που μπορεί να λάβει\n",
    "κάθε κριτήριο. Σε περίπτωση που δεν συμπληρωθεί ο πίνακας η συνάρτηση\n",
    "λαμβάνει σαν την χειρότερη τιμή την τιμή του πολυκριτήριου πίνακα, έχοντας\n",
    "υπόψιν την μονοτονία του κριτηρίου.</p>\n",
    "<p>intervals: Δέχεται σε μορφή λίστας ή πίνακα numpy τα διαστήματα στα οποία θα χωριστεί το\n",
    "κάθε κριτήριο. Αν δεν δοθεί τιμή χωρίζει όλα τα κριτήρια σε 3 διαστήματα</p>\n",
    "<p>method: Δέχεται σαν είσοδο την μέθοδο με την οποία θα επιλυθεί το γραμμικό πρόβλημα.\n",
    "Οι αποδεκτές τιμές είναι αυτές που δέχεται η linprog της scipy, δηλαδή οι τιμές\n",
    "“simplex” και “interior-point”.</p>\n",
    "<p>epsilon: Η μεταβλητή epsilon καθορίζει το αποδεκτό σφάλμα που ο χρήστης είναι\n",
    "διατεθειμένος να αποδεχτεί κατά την διάρκεια της μετά-βελτιστοποίησης .\n",
    "Προκαθορισμένη τιμή είναι 0,005.</p>\n",
    "<p>delta: Η μεταβλητή delta ορίζει την ελάχιστη απόσταση μεταξύ της κατάταξης μίας\n",
    "εναλλακτικής με την αμέσως χειρότερη της κατά την δόμηση του γραμμικού\n",
    "προβλήματος. Προκαθορισμένη τιμή είναι 0,05.</p>\n",
    "<p>sigma(μονο για την UTA): Η μεταβλητή sigma καθορίζει την ελάχιστη διαφορά που πρέπει να έχουν οι\n",
    "χρησιμότητες ενός κριτηρίου όσο αυξάνεται η τιμή σου στο διακριτό διάστημα.\n",
    "Προκαθορισμένη τιμή είναι 0.</p>"
   ]
  },
  {
   "cell_type": "code",
   "execution_count": 4,
   "metadata": {},
   "outputs": [],
   "source": [
    "df = np.array([[173, 11.4, 10.01, 10, 7.88, 49500],\n",
    "               [176, 12.3, 10.48, 11, 7.96, 46700],\n",
    "               [142, 8.2,  7.3,    5, 5.65, 32100],\n",
    "               [148, 10.5, 9.61,   7, 6.15, 39150],\n",
    "               [178, 14.5, 11.05, 13, 8.06, 64700],\n",
    "               [180, 13.6, 10.4,  13, 8.47, 75700],\n",
    "               [182, 12.7, 12.26, 11, 7.81, 68593],\n",
    "               [145, 14.3, 12.95, 11, 8.38, 55000],\n",
    "               [161, 8.6,  8.42,  7,  5.11, 35200],\n",
    "               [117, 7.2,  6.75,  3,  5.81, 24800]])\n",
    "alternatives = [\"Pegaut 505GR\", \"Opel Record\", \"Citroen Visa\", \"VW Golf\",\"Citroen CX\", \"Mercedes 230\", \"BMW 520\", \"Volvo 244\",\"Pegaut 104\", \"Citroen dyane\"]\n",
    "ranking = [1, 2, 3,  4, 5, 6, 7, 8, 9, 10]\n",
    "bestvalues = [190, 7, 6, 13, 9, 20000]\n",
    "worstvalues = [110, 15, 13, 3, 5, 80000]\n",
    "monotonicity = [1, 0, 0, 1, 1, 0]\n",
    "intervals = [4, 3, 3, 4, 3, 4]"
   ]
  },
  {
   "cell_type": "markdown",
   "metadata": {},
   "source": [
    "<p>Παραπάνω παρουσιάζεται το παράδειγμα της βιβλιογραφίας για την επιλογή αυτοκινήτου</p>"
   ]
  },
  {
   "cell_type": "code",
   "execution_count": 5,
   "metadata": {},
   "outputs": [],
   "source": [
    "res1 = UTA(data=df, ranking=ranking,alternatives=alternatives, bestvalues=bestvalues,worstvalues=worstvalues, \n",
    "          monotonicity=monotonicity, intervals=intervals, epsilon=0.0009, delta=0.01, method='simplex')"
   ]
  },
  {
   "cell_type": "code",
   "execution_count": 6,
   "metadata": {},
   "outputs": [
    {
     "name": "stdout",
     "output_type": "stream",
     "text": [
      "              g: [[110.0, 130.0, 150.0, 170.0, 190.0], [15.0, 12.333333333333334, 9.666666666666668, 7.0], [13.0, 10.666666666666666, 8.333333333333332, 6.0], [3.0, 5.5, 8.0, 10.5, 13.0], [5.0, 6.333333333333333, 7.666666666666666, 9.0], [80000.0, 65000.0, 50000.0, 35000.0, 20000.0]]\n",
      "       criteria: ['criterion1', 'criterion2', 'criterion3', 'criterion4', 'criterion5', 'criterion6']\n",
      "     crit_names: ['u1.1', 'u1.2', 'u1.3', 'u1.4', 'u1.5', 'u2.1', 'u2.2', 'u2.3', 'u2.4', 'u3.1', 'u3.2', 'u3.3', 'u3.4', 'u4.1', 'u4.2', 'u4.3', 'u4.4', 'u4.5', 'u5.1', 'u5.2', 'u5.3', 'u5.4', 'u6.1', 'u6.2', 'u6.3', 'u6.4', 'u6.5']\n",
      " crit_utilities: array([0.        , 0.099065  , 0.109065  , 0.1242647 , 0.1342647 ,\n",
      "       0.        , 0.01563149, 0.15923063, 0.17708443, 0.        ,\n",
      "       0.02662599, 0.04688095, 0.14557453, 0.        , 0.14102649,\n",
      "       0.15825175, 0.1685391 , 0.18113013, 0.        , 0.1653078 ,\n",
      "       0.24035982, 0.25069465, 0.        , 0.03572071, 0.06131761,\n",
      "       0.07616826, 0.11125155])\n",
      "  all_utilities: array([[0.        , 0.55215454, 0.56215454, 0.57414317, 0.58414317,\n",
      "        0.        , 0.01389894, 0.05849859, 0.06849859, 0.        ,\n",
      "        0.02534339, 0.03534339, 0.1062967 , 0.        , 0.01      ,\n",
      "        0.02      , 0.03      , 0.04      , 0.        , 0.10674932,\n",
      "        0.11674932, 0.12674932, 0.        , 0.03315298, 0.05431222,\n",
      "        0.06431222, 0.07431222],\n",
      "       [0.        , 0.01      , 0.02      , 0.03      , 0.04      ,\n",
      "        0.        , 0.03214882, 0.21866205, 0.32290769, 0.        ,\n",
      "        0.01      , 0.02      , 0.03      , 0.        , 0.16135009,\n",
      "        0.17135009, 0.18135009, 0.21433153, 0.        , 0.21053458,\n",
      "        0.29944813, 0.30944813, 0.        , 0.0368433 , 0.06331265,\n",
      "        0.07331265, 0.08331265],\n",
      "       [0.        , 0.01      , 0.02      , 0.03      , 0.04      ,\n",
      "        0.        , 0.01      , 0.02      , 0.03      , 0.        ,\n",
      "        0.06670016, 0.13914106, 0.36730175, 0.        , 0.22753069,\n",
      "        0.25775035, 0.26775035, 0.27775035, 0.        , 0.16755269,\n",
      "        0.17755269, 0.18755269, 0.        , 0.05068116, 0.07739521,\n",
      "        0.08739521, 0.09739521],\n",
      "       [0.        , 0.01      , 0.02      , 0.03      , 0.04      ,\n",
      "        0.        , 0.01532146, 0.06196445, 0.07196445, 0.        ,\n",
      "        0.02676944, 0.03676944, 0.27339013, 0.        , 0.38112189,\n",
      "        0.39112189, 0.40457002, 0.41457002, 0.        , 0.10616573,\n",
      "        0.11616573, 0.12616573, 0.        , 0.03419494, 0.05390967,\n",
      "        0.06390967, 0.07390967],\n",
      "       [0.        , 0.04201821, 0.05201821, 0.06201821, 0.07201821,\n",
      "        0.        , 0.01      , 0.25609884, 0.26609884, 0.        ,\n",
      "        0.01974859, 0.02974859, 0.03974859, 0.        , 0.08931155,\n",
      "        0.09931155, 0.10931155, 0.11931155, 0.        , 0.20572726,\n",
      "        0.36853232, 0.38255036, 0.        , 0.03206469, 0.04206469,\n",
      "        0.11027245, 0.12027245],\n",
      "       [0.        , 0.1561102 , 0.1661102 , 0.17809884, 0.18809884,\n",
      "        0.        , 0.01389894, 0.05849859, 0.06849859, 0.        ,\n",
      "        0.02534339, 0.03534339, 0.04534339, 0.        , 0.16599815,\n",
      "        0.17599815, 0.18599815, 0.19599815, 0.        , 0.10674932,\n",
      "        0.11674932, 0.12674932, 0.        , 0.03315298, 0.05431222,\n",
      "        0.06431222, 0.37531171],\n",
      "       [0.        , 0.01      , 0.02      , 0.03      , 0.04      ,\n",
      "        0.        , 0.01285956, 0.28932262, 0.29932262, 0.        ,\n",
      "        0.02594539, 0.03594539, 0.07176108, 0.        , 0.12293483,\n",
      "        0.13293483, 0.14293483, 0.15293483, 0.        , 0.19824108,\n",
      "        0.35415741, 0.36415741, 0.        , 0.03286144, 0.05182406,\n",
      "        0.06182406, 0.07182406],\n",
      "       [0.        , 0.01      , 0.02      , 0.06457248, 0.07457248,\n",
      "        0.        , 0.01      , 0.02      , 0.03      , 0.        ,\n",
      "        0.01745357, 0.08807219, 0.33966039, 0.        , 0.23014863,\n",
      "        0.24014863, 0.25014863, 0.26014863, 0.        , 0.15549833,\n",
      "        0.16549833, 0.17549833, 0.        , 0.03805625, 0.10012018,\n",
      "        0.11012018, 0.12012018],\n",
      "       [0.        , 0.08040576, 0.09040576, 0.1141601 , 0.1241601 ,\n",
      "        0.        , 0.01      , 0.29493861, 0.30493861, 0.        ,\n",
      "        0.01      , 0.02      , 0.03      , 0.        , 0.05896288,\n",
      "        0.06896288, 0.07896288, 0.09707391, 0.        , 0.21133531,\n",
      "        0.35579562, 0.36579562, 0.        , 0.02751213, 0.05803176,\n",
      "        0.06803176, 0.07803176],\n",
      "       [0.        , 0.15097287, 0.16097287, 0.18106513, 0.19106513,\n",
      "        0.        , 0.01      , 0.27849593, 0.28849593, 0.        ,\n",
      "        0.02134249, 0.03134249, 0.04134249, 0.        , 0.01      ,\n",
      "        0.02      , 0.03      , 0.04      , 0.        , 0.2033193 ,\n",
      "        0.34982753, 0.35982753, 0.        , 0.03016406, 0.05926893,\n",
      "        0.06926893, 0.07926893],\n",
      "       [0.        , 0.01      , 0.02      , 0.03      , 0.04      ,\n",
      "        0.        , 0.0259937 , 0.07326001, 0.08326001, 0.        ,\n",
      "        0.03694905, 0.04694905, 0.34813348, 0.        , 0.21430216,\n",
      "        0.29078565, 0.30078565, 0.31078565, 0.        , 0.10526161,\n",
      "        0.11526161, 0.12526161, 0.        , 0.04126406, 0.07255925,\n",
      "        0.08255925, 0.09255925],\n",
      "       [0.        , 0.14711846, 0.15711846, 0.16711846, 0.17711846,\n",
      "        0.        , 0.02345648, 0.28102785, 0.29102785, 0.        ,\n",
      "        0.03391635, 0.04391635, 0.05391635, 0.        , 0.02065699,\n",
      "        0.03065699, 0.04065699, 0.05065699, 0.        , 0.20655908,\n",
      "        0.34857979, 0.35857979, 0.        , 0.03870055, 0.04870055,\n",
      "        0.05870055, 0.06870055]])\n",
      "   alternatives: ['Pegaut 505GR', 'Opel Record', 'Citroen Visa', 'VW Golf', 'Citroen CX', 'Mercedes 230', 'BMW 520', 'Volvo 244', 'Pegaut 104', 'Citroen dyane']\n",
      " alts_utilities: array([0.69428985, 0.6512131 , 0.6410631 , 0.6242187 , 0.6142187 ,\n",
      "       0.6043687 , 0.59188363, 0.5809704 , 0.5708954 , 0.52471913])\n",
      "         errors: array([2.55588188e-04, 0.00000000e+00, 1.50000000e-04, 1.50000000e-04,\n",
      "       1.50000000e-04, 0.00000000e+00, 1.19411812e-04, 0.00000000e+00,\n",
      "       7.50000000e-05, 0.00000000e+00])\n",
      "            tau: 0.9999999999999999\n",
      "            ASI: 0.6009349799819462\n"
     ]
    }
   ],
   "source": [
    "print(res1)"
   ]
  },
  {
   "cell_type": "markdown",
   "metadata": {},
   "source": [
    "<p>Επιλύωντας την μέθοδο UTA μπορούμε να δούμε τα διάφορα γνωρίσματα του αποτελέσματος.Το αποτέλεσμα είναι σε μορφή αντικειμένου. Προκειμένου να έχουμε πρόσβαση σε ένα γνώρισμα όπως οι χρησιμότητες κριτηρίων απλά χρειάζεται να το καλέσουμε. </p>\n"
   ]
  },
  {
   "cell_type": "code",
   "execution_count": 7,
   "metadata": {},
   "outputs": [
    {
     "name": "stdout",
     "output_type": "stream",
     "text": [
      "u1.1 = 0.0\n",
      "u1.2 = 0.09906500359785816\n",
      "u1.3 = 0.10906500359785817\n",
      "u1.4 = 0.12426470005916676\n",
      "u1.5 = 0.13426470005916677\n",
      "u2.1 = 0.0\n",
      "u2.2 = 0.015631491148460425\n",
      "u2.3 = 0.15923062855229728\n",
      "u2.4 = 0.17708443189183562\n",
      "u3.1 = 0.0\n",
      "u3.2 = 0.026625985452678066\n",
      "u3.3 = 0.046880945591864176\n",
      "u3.4 = 0.14557452916914326\n",
      "u4.1 = 0.0\n",
      "u4.2 = 0.14102648925616074\n",
      "u4.3 = 0.15825175135779784\n",
      "u4.4 = 0.16853909571473685\n",
      "u4.5 = 0.18113013450970447\n",
      "u5.1 = 0.0\n",
      "u5.2 = 0.16530780128640707\n",
      "u5.3 = 0.240359816019211\n",
      "u5.4 = 0.25069465243919803\n",
      "u6.1 = 0.0\n",
      "u6.2 = 0.03572071124439852\n",
      "u6.3 = 0.06131761458124321\n",
      "u6.4 = 0.0761682607537496\n",
      "u6.5 = 0.11125155193094911\n"
     ]
    }
   ],
   "source": [
    "for i in range(len(res1.crit_names)):\n",
    "    print(res1.crit_names[i]+' = '+str(res1.crit_utilities[i]))\n"
   ]
  },
  {
   "cell_type": "markdown",
   "metadata": {},
   "source": [
    "<p>Όσο αφορά τα αποτελέσματα υπάρχει μία απόκλιση στις τιμές των χρησιμοτήτων καθώς η UTA έχει προγραμματιστεί να δέχεται την τιμή epsilon σαν μία προστιθέμενη τιμή όπως στην UTASTAR και όχι σαν πολλαπλάσιο του σφάλματος όπως στην βιβλιογραφία.</p>"
   ]
  },
  {
   "cell_type": "markdown",
   "metadata": {},
   "source": [
    "<p>Παρακάτω παρουσιάζεται το παράδειγμα των μεταφορικών μέσων από την βιβλιογραφία, πάνω στο οποίο εφαρρμόζεται η UTASTAR. </p>"
   ]
  },
  {
   "cell_type": "code",
   "execution_count": 8,
   "metadata": {},
   "outputs": [],
   "source": [
    "df = np.array([[3, 10, 1],\n",
    "               [4, 20, 2],\n",
    "               [2, 20, 0],\n",
    "               [6, 40, 0],\n",
    "               [30, 30, 3]])\n",
    "ranking = [1, 2, 2, 3,  4]\n",
    "alternatives = ['a', \"b\", \"c\", 'd', 'f']\n",
    "criteria = ['Price','Time','Comfort']\n",
    "bestvalues = [2, 10, 3]\n",
    "worstvalues = [30, 40, 0]\n",
    "monotonicity = [0, 0, 1]\n",
    "intervals = [2, 3, 3]"
   ]
  },
  {
   "cell_type": "code",
   "execution_count": null,
   "metadata": {},
   "outputs": [],
   "source": []
  },
  {
   "cell_type": "code",
   "execution_count": 9,
   "metadata": {},
   "outputs": [],
   "source": [
    "res2 = UTASTAR(df, ranking=ranking, criteria=criteria,alternatives=alternatives, bestvalues=bestvalues,\n",
    "              worstvalues=worstvalues, monotonicity=monotonicity, intervals=intervals)\n"
   ]
  },
  {
   "cell_type": "code",
   "execution_count": 10,
   "metadata": {
    "scrolled": true
   },
   "outputs": [
    {
     "name": "stdout",
     "output_type": "stream",
     "text": [
      "              g: [[30.0, 16.0, 2.0], [40.0, 30.0, 20.0, 10.0], [0.0, 1.0, 2.0, 3.0]]\n",
      "       criteria: ['Price', 'Time', 'Comfort']\n",
      "     crit_names: ['u1.1', 'u1.2', 'u1.3', 'u2.1', 'u2.2', 'u2.3', 'u2.4', 'u3.1', 'u3.2', 'u3.3', 'u3.4']\n",
      " crit_utilities: array([0.        , 0.39041667, 0.50708333, 0.        , 0.        ,\n",
      "       0.01833333, 0.34      , 0.        , 0.01833333, 0.01833333,\n",
      "       0.15291667])\n",
      "        w_names: ['w1.1', 'w1.2', 'w2.1', 'w2.2', 'w2.3', 'w3.1', 'w3.2', 'w3.3']\n",
      "              w: array([[0.39041667, 0.11666667, 0.        , 0.01833333, 0.32166667,\n",
      "        0.01833333, 0.        , 0.13458333]])\n",
      "          all_w: array([[0.7675 , 0.175  , 0.     , 0.     , 0.0325 , 0.025  , 0.     ,\n",
      "        0.     ],\n",
      "       [0.045  , 0.     , 0.     , 0.055  , 0.9    , 0.     , 0.     ,\n",
      "        0.     ],\n",
      "       [0.35875, 0.175  , 0.     , 0.     , 0.0325 , 0.03   , 0.     ,\n",
      "        0.40375]])\n",
      "   alternatives: ['a', 'b', 'c', 'd', 'f']\n",
      " alts_utilities: array([0.85708333, 0.52708333, 0.52541667, 0.47375   , 0.15291667])\n",
      "         errors: array([0.00166667, 0.        , 0.        , 0.00166667, 0.        ,\n",
      "       0.        , 0.00166667, 0.        , 0.        , 0.        ])\n",
      "            tau: 0.9486832980505137\n",
      "            ASI: 0.8219728570192938\n"
     ]
    }
   ],
   "source": [
    "print(res2)"
   ]
  },
  {
   "cell_type": "markdown",
   "metadata": {},
   "source": [
    "<P>Αντίστοιχα με την UTA μπορούμε να δούμε τα γνωρίσματα με την εντολή print, μέσα στα οποία βρίσκονται οι χρησιμότητες των κριτηρίων και των εναλλακτικών. Σε αυτό το παράδειγμα θα οτικοποιήθούν οι χρησιμότητες των εναλλακτικών και τα σφάλματα.</P>"
   ]
  },
  {
   "cell_type": "code",
   "execution_count": 11,
   "metadata": {},
   "outputs": [
    {
     "name": "stdout",
     "output_type": "stream",
     "text": [
      "a = 0.8570833333333332\n",
      "b = 0.5270833333333331\n",
      "c = 0.5254166666666665\n",
      "d = 0.4737499999999999\n",
      "f = 0.1529166666666667\n",
      "\n",
      "\n",
      "sa+ = 0.0016666666666666668\n",
      "sa- = 0.0\n",
      "sb+ = 0.0\n",
      "sb- = 0.0016666666666666668\n",
      "sc+ = 0.0\n",
      "sc- = 0.0\n",
      "sd+ = 0.0016666666666666668\n",
      "sd- = 0.0\n",
      "sf+ = 0.0\n",
      "sf- = 0.0\n"
     ]
    }
   ],
   "source": [
    "for countAlts in range(len(res2.alternatives)):\n",
    "    print(res2.alternatives[countAlts]+\" = \"+str(res2.alts_utilities[countAlts]))\n",
    "\n",
    "print(\"\\n\")\n",
    "countError = 0\n",
    "for countAlts in range(len(res2.alternatives)):\n",
    "    errorplus = 's'+res2.alternatives[countAlts]+\"+\"+\" = \"+str(res2.errors[countError])\n",
    "    errorminus = 's'+res2.alternatives[countAlts]+\"-\"+\" = \"+str(res2.errors[countError+1])\n",
    "    print(errorplus)\n",
    "    print(errorminus)\n",
    "    countError +=2\n"
   ]
  },
  {
   "cell_type": "markdown",
   "metadata": {},
   "source": [
    "<p>Καθώς η UTADIS αποτελεί μέθοδο ταξινόμησης χρησιμοποιεί διαφορετικά δεδομένα εισόδου. Επιπλέον σε αντίθεση με την UTA και την UTASTAR δεν καλείται σαν συνάρτηση αλλά σαν κλάση και η επιλυσή του προβλήματος γίνεται μέσω των μεθόδων της κλάσης  </p>\n",
    "<p>Τα δεδομένα που χρειάζονται για την εφαρμογή της μεθόδου είναι:</p>\n",
    "<p>groups: Δέχεται σε μορφή λίστας τις ομάδες για κάθε εναλλακτική. Η εισαγωγή της\n",
    "μεταβλητής είναι υποχρεωτική.</p>\n",
    "<p>pref_order: Δέχεται σε μορφή λίστας τις προκαθορισμένες ομάδες με αύξουσα σειρά\n",
    "ξεκινώντας από την θέση 0 της λίστας, μέχρι την τελευταία. Η εισαγωγή της\n",
    "μεταβλητής είναι υποχρεωτική.</p>"
   ]
  },
  {
   "cell_type": "markdown",
   "metadata": {},
   "source": [
    "<p>Μέσω του παραδείγματος από το άρθρο του Ζυγομήτρου γίνετται βηματική επίληση της μεθόδου.</p>"
   ]
  },
  {
   "cell_type": "code",
   "execution_count": 12,
   "metadata": {},
   "outputs": [],
   "source": [
    "df = np.array([[180, 2, 3], \n",
    "               [200, 2, 2], \n",
    "               [40, 3, 3], \n",
    "               [80, 3, 3], \n",
    "               [100, 2, 1], \n",
    "               [70, 1, 2],\n",
    "               [120, 1, 1]])\n",
    "pref_order = ['NO', '?', 'YES']\n",
    "groups = ['YES','YES','?','YES','?','NO','NO']\n",
    "bestvalues = [200, 3, 3]\n",
    "worstvalues = [0, 1, 1]\n",
    "intervals = [4, 2, 2]"
   ]
  },
  {
   "cell_type": "code",
   "execution_count": 13,
   "metadata": {},
   "outputs": [],
   "source": [
    "res = UTADIS()\n",
    "x = res.fit(data=df, groups=groups, pref_order=pref_order, \n",
    "        bestvalues=bestvalues, worstvalues=worstvalues, \n",
    "        intervals=intervals, epsilon=0.005, delta=0.05,\n",
    "        sigma=0.1, method='interior-point')"
   ]
  },
  {
   "cell_type": "markdown",
   "metadata": {},
   "source": [
    "<p>Αρχικά ορίζεται η μεταβλητή res ως κλάση UTADIS και στην συνέχεια εκτελείται η μέθοδος fit που δημιουργεί το μοντέλο με το οποίο θα γίνουν οι προβλέψεις. Το μεντέλο εκχωρείται στην μεταβλητή x ωστε να μπορεί να γίνει οπτική απεικόνιση των χρησιμοτήτων.</p>\n"
   ]
  },
  {
   "cell_type": "code",
   "execution_count": 14,
   "metadata": {},
   "outputs": [
    {
     "name": "stdout",
     "output_type": "stream",
     "text": [
      "                g: [[0, 50.0, 100.0, 150.0, 200.0], [1, 2.0, 3.0], [1, 2.0, 3.0]]\n",
      "         w_values: array([0.09080108, 0.16051428, 0.02314407, 0.14839371, 0.31365683,\n",
      "       0.05990295, 0.09357931, 0.11000778])\n",
      "            all_w: array([[3.79281750e-01, 3.36095787e-09, 5.03306785e-10, 4.75718252e-01,\n",
      "        6.48135486e-02, 5.61513921e-02, 1.30944054e-09, 2.40350631e-02],\n",
      "       [7.36382659e-12, 7.50000000e-02, 3.84701312e-02, 7.74559924e-11,\n",
      "        8.08336223e-01, 6.66637773e-02, 1.15298687e-02, 2.31005961e-11],\n",
      "       [1.04597297e-09, 3.86538458e-01, 6.58576212e-10, 1.48440143e-09,\n",
      "        4.50000047e-02, 6.53671742e-10, 2.31923075e-01, 3.36538464e-01],\n",
      "       [3.91744284e-12, 7.49999995e-02, 1.33771316e-11, 2.34948512e-11,\n",
      "        6.78314244e-01, 8.46653230e-03, 2.27901570e-01, 1.03176554e-02],\n",
      "       [1.00806524e-01, 2.45560477e-01, 3.38924369e-11, 2.29356157e-01,\n",
      "        4.50000000e-02, 2.68056356e-12, 9.01213196e-02, 2.89155522e-01],\n",
      "       [6.47182095e-02, 1.80986731e-01, 1.00394292e-01, 1.85287821e-01,\n",
      "        2.40476965e-01, 2.28135981e-01, 6.07994467e-12, 9.97062003e-12]])\n",
      " transitionpoints: array([0.7173027 , 0.43424159])\n",
      "           errors: array([6.67293362e-05, 5.23182513e-05, 1.12714105e-03, 6.59115421e-05,\n",
      "       1.47479577e-03, 6.10941493e-05, 1.31920314e-03, 6.51137014e-05,\n",
      "       4.46433129e-04])\n",
      "   crit_utilities: array([0.        , 0.09080108, 0.25131536, 0.27445943, 0.42285314,\n",
      "       0.        , 0.31365683, 0.37355978, 0.        , 0.09357931,\n",
      "       0.20358709])\n",
      "         criteria: ['criterion1', 'criterion2', 'criterion3']\n",
      "              ASI: 0.7631370763264876\n"
     ]
    }
   ],
   "source": [
    "print(x)"
   ]
  },
  {
   "cell_type": "markdown",
   "metadata": {},
   "source": [
    "<p>Στην συνέχεια για ένα σετ δεδομένων με άγνωστες ομάδες γίνεται εφαρμογή του μοντέλου για πρόβλεψη των ομάδων. Η πρόβλεψη γίνεται με την χρήση της εντολής predict ενώ αν θέλουμε να δούμε την συνολική χρησιμότητα καλούμε την εντολή altsestimation αμέσως μετά το predict.</p>"
   ]
  },
  {
   "cell_type": "code",
   "execution_count": 15,
   "metadata": {},
   "outputs": [
    {
     "name": "stdout",
     "output_type": "stream",
     "text": [
      "['?', '?', '?', '?', '?', 'NO', '?', '?']\n",
      "[0.53977995 0.46878889 0.70435357 0.63162752 0.46866362 0.27445943\n",
      " 0.53014007 0.45707496]\n",
      "[0.7173027  0.43424159]\n"
     ]
    }
   ],
   "source": [
    "data = np.array([[40, 3, 2],\n",
    "                 [130, 1, 3],\n",
    "                 [80, 2, 3],\n",
    "                 [30, 3, 3],\n",
    "                 [70, 2, 1],\n",
    "                 [150, 1, 1],\n",
    "                 [60, 2, 2],\n",
    "                 [180, 1, 2]])\n",
    "\n",
    "y = res.predict(data)\n",
    "d = res.altsestimation()\n",
    "\n",
    "print(y)\n",
    "print(d)\n",
    "print(x.transitionpoints)"
   ]
  },
  {
   "cell_type": "markdown",
   "metadata": {},
   "source": [
    "<p>Η εργαλειοθήκη δίνει την δυνατότητα να οπτικοποιήσει τα αποτελέσματα των μεθόδων δημιουργώντας γρφήματα. Για τη δημιουργία γραφημάτων καλούμε είτε την εντολή criteriaPlot() είτε την alternativesPlot() και εισάγουμε σαν μέσα στις εντολές το αντικείμενο για το οποίο θέλουμε να γίνει η οπτικοποίηση. Από κάτω φαίνετι ένα παράδειγμα χρήσης της criteriaPlot πάνω στα δεδομένα της UTASTAR και ένα παράδειγμα της alternativesPlot πάνω στα δεδομένα της UTA.</p>"
   ]
  },
  {
   "cell_type": "code",
   "execution_count": 18,
   "metadata": {},
   "outputs": [
    {
     "data": {
      "image/png": "[encoded data removed]",
      "text/plain": [
       "<Figure size 432x288 with 1 Axes>"
      ]
     },
     "metadata": {
      "needs_background": "light"
     },
     "output_type": "display_data"
    },
    {
     "data": {
      "image/png": "[encoded data removed]",
      "text/plain": [
       "<Figure size 432x288 with 1 Axes>"
      ]
     },
     "metadata": {
      "needs_background": "light"
     },
     "output_type": "display_data"
    },
    {
     "data": {
      "image/png": "[encoded data removed]",
      "text/plain": [
       "<Figure size 432x288 with 1 Axes>"
      ]
     },
     "metadata": {
      "needs_background": "light"
     },
     "output_type": "display_data"
    },
    {
     "data": {
      "text/plain": [
       "0"
      ]
     },
     "execution_count": 18,
     "metadata": {},
     "output_type": "execute_result"
    }
   ],
   "source": [
    "criteria_plot(res2)"
   ]
  },
  {
   "cell_type": "code",
   "execution_count": 19,
   "metadata": {},
   "outputs": [
    {
     "data": {
      "image/png": "[encoded data removed]",
      "text/plain": [
       "<Figure size 432x288 with 1 Axes>"
      ]
     },
     "metadata": {
      "needs_background": "light"
     },
     "output_type": "display_data"
    },
    {
     "data": {
      "text/plain": [
       "0"
      ]
     },
     "execution_count": 19,
     "metadata": {},
     "output_type": "execute_result"
    }
   ],
   "source": [
    "alternatives_plot(res1)"
   ]
  },
  {
   "cell_type": "code",
   "execution_count": null,
   "metadata": {},
   "outputs": [],
   "source": []
  },
  {
   "cell_type": "code",
   "execution_count": null,
   "metadata": {},
   "outputs": [],
   "source": []
  },
  {
   "cell_type": "code",
   "execution_count": null,
   "metadata": {},
   "outputs": [],
   "source": []
  }
 ],
 "metadata": {
  "kernelspec": {
   "display_name": "Python 3 (ipykernel)",
   "language": "python",
   "name": "python3"
  },
  "language_info": {
   "codemirror_mode": {
    "name": "ipython",
    "version": 3
   },
   "file_extension": ".py",
   "mimetype": "text/x-python",
   "name": "python",
   "nbconvert_exporter": "python",
   "pygments_lexer": "ipython3",
   "version": "3.9.7"
  }
 },
 "nbformat": 4,
 "nbformat_minor": 2
}
